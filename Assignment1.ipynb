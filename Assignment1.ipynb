{
 "cells": [
  {
   "cell_type": "markdown",
   "metadata": {},
   "source": [
    "# Question1"
   ]
  },
  {
   "cell_type": "code",
   "execution_count": 1,
   "metadata": {},
   "outputs": [],
   "source": [
    "import pandas as pd\n",
    "import numpy as np\n",
    "import os"
   ]
  },
  {
   "cell_type": "code",
   "execution_count": 2,
   "metadata": {
    "scrolled": true
   },
   "outputs": [],
   "source": [
    "os.chdir (r'D:\\HKU\\study\\7037')"
   ]
  },
  {
   "cell_type": "code",
   "execution_count": 3,
   "metadata": {},
   "outputs": [
    {
     "data": {
      "text/html": [
       "<div>\n",
       "<style scoped>\n",
       "    .dataframe tbody tr th:only-of-type {\n",
       "        vertical-align: middle;\n",
       "    }\n",
       "\n",
       "    .dataframe tbody tr th {\n",
       "        vertical-align: top;\n",
       "    }\n",
       "\n",
       "    .dataframe thead th {\n",
       "        text-align: right;\n",
       "    }\n",
       "</style>\n",
       "<table border=\"1\" class=\"dataframe\">\n",
       "  <thead>\n",
       "    <tr style=\"text-align: right;\">\n",
       "      <th></th>\n",
       "      <th>month_end</th>\n",
       "      <th>mkt_rf</th>\n",
       "      <th>smb</th>\n",
       "      <th>hml</th>\n",
       "      <th>rf</th>\n",
       "      <th>mom</th>\n",
       "    </tr>\n",
       "  </thead>\n",
       "  <tbody>\n",
       "    <tr>\n",
       "      <th>0</th>\n",
       "      <td>1926-07-31</td>\n",
       "      <td>0.028846</td>\n",
       "      <td>-0.023085</td>\n",
       "      <td>-0.026925</td>\n",
       "      <td>0.002252</td>\n",
       "      <td>0.000000</td>\n",
       "    </tr>\n",
       "    <tr>\n",
       "      <th>1</th>\n",
       "      <td>1926-08-31</td>\n",
       "      <td>0.026697</td>\n",
       "      <td>-0.014145</td>\n",
       "      <td>0.040306</td>\n",
       "      <td>0.002603</td>\n",
       "      <td>0.000000</td>\n",
       "    </tr>\n",
       "    <tr>\n",
       "      <th>2</th>\n",
       "      <td>1926-09-30</td>\n",
       "      <td>0.003724</td>\n",
       "      <td>-0.013390</td>\n",
       "      <td>0.000239</td>\n",
       "      <td>0.002162</td>\n",
       "      <td>0.000000</td>\n",
       "    </tr>\n",
       "    <tr>\n",
       "      <th>3</th>\n",
       "      <td>1926-10-31</td>\n",
       "      <td>-0.033011</td>\n",
       "      <td>-0.002182</td>\n",
       "      <td>0.008283</td>\n",
       "      <td>0.003255</td>\n",
       "      <td>0.000000</td>\n",
       "    </tr>\n",
       "    <tr>\n",
       "      <th>4</th>\n",
       "      <td>1926-11-30</td>\n",
       "      <td>0.025847</td>\n",
       "      <td>-0.001650</td>\n",
       "      <td>-0.004794</td>\n",
       "      <td>0.003125</td>\n",
       "      <td>0.014683</td>\n",
       "    </tr>\n",
       "  </tbody>\n",
       "</table>\n",
       "</div>"
      ],
      "text/plain": [
       "    month_end    mkt_rf       smb       hml        rf       mom\n",
       "0  1926-07-31  0.028846 -0.023085 -0.026925  0.002252  0.000000\n",
       "1  1926-08-31  0.026697 -0.014145  0.040306  0.002603  0.000000\n",
       "2  1926-09-30  0.003724 -0.013390  0.000239  0.002162  0.000000\n",
       "3  1926-10-31 -0.033011 -0.002182  0.008283  0.003255  0.000000\n",
       "4  1926-11-30  0.025847 -0.001650 -0.004794  0.003125  0.014683"
      ]
     },
     "execution_count": 3,
     "metadata": {},
     "output_type": "execute_result"
    }
   ],
   "source": [
    "ff= pd.read_parquet('ff_four_factor_monthly.parquet')\n",
    "ff.head()"
   ]
  },
  {
   "cell_type": "code",
   "execution_count": 4,
   "metadata": {},
   "outputs": [
    {
     "data": {
      "text/plain": [
       "0.05921465451482111"
      ]
     },
     "execution_count": 4,
     "metadata": {},
     "output_type": "execute_result"
    }
   ],
   "source": [
    "#1b cumulative average return\n",
    "average_return=(ff.mom+1).prod() - 1\n",
    "geo_average_return=average_return**(1/ff.shape[0])-1\n",
    "annualize_return=(1+geo_average_return)**12-1\n",
    "annualize_return"
   ]
  },
  {
   "cell_type": "code",
   "execution_count": 5,
   "metadata": {},
   "outputs": [
    {
     "data": {
      "text/plain": [
       "0.15193145926172957"
      ]
     },
     "execution_count": 5,
     "metadata": {},
     "output_type": "execute_result"
    }
   ],
   "source": [
    "#1b volatility\n",
    "volatility=ff.mom.std() * np.sqrt(12)\n",
    "volatility"
   ]
  },
  {
   "cell_type": "code",
   "execution_count": 6,
   "metadata": {},
   "outputs": [
    {
     "data": {
      "text/plain": [
       "0.24741705357583085"
      ]
     },
     "execution_count": 6,
     "metadata": {},
     "output_type": "execute_result"
    }
   ],
   "source": [
    "# 1b Sharpe ratio\n",
    "sharpe_ratio=((1/ff.shape[0]) * (ff.mom - ff.rf).sum() / (ff.mom).std())\n",
    "annualize_sharpe_ratio=sharpe_ratio*np.sqrt(12)\n",
    "annualize_sharpe_ratio"
   ]
  },
  {
   "cell_type": "code",
   "execution_count": 7,
   "metadata": {},
   "outputs": [
    {
     "data": {
      "text/html": [
       "<table class=\"simpletable\">\n",
       "<caption>OLS Regression Results</caption>\n",
       "<tr>\n",
       "  <th>Dep. Variable:</th>           <td>mom</td>       <th>  R-squared:         </th> <td>   0.096</td>\n",
       "</tr>\n",
       "<tr>\n",
       "  <th>Model:</th>                   <td>OLS</td>       <th>  Adj. R-squared:    </th> <td>   0.095</td>\n",
       "</tr>\n",
       "<tr>\n",
       "  <th>Method:</th>             <td>Least Squares</td>  <th>  F-statistic:       </th> <td>   121.0</td>\n",
       "</tr>\n",
       "<tr>\n",
       "  <th>Date:</th>             <td>Tue, 12 Apr 2022</td> <th>  Prob (F-statistic):</th> <td>7.96e-27</td>\n",
       "</tr>\n",
       "<tr>\n",
       "  <th>Time:</th>                 <td>18:57:29</td>     <th>  Log-Likelihood:    </th> <td>  2017.0</td>\n",
       "</tr>\n",
       "<tr>\n",
       "  <th>No. Observations:</th>      <td>  1147</td>      <th>  AIC:               </th> <td>  -4030.</td>\n",
       "</tr>\n",
       "<tr>\n",
       "  <th>Df Residuals:</th>          <td>  1145</td>      <th>  BIC:               </th> <td>  -4020.</td>\n",
       "</tr>\n",
       "<tr>\n",
       "  <th>Df Model:</th>              <td>     1</td>      <th>                     </th>     <td> </td>   \n",
       "</tr>\n",
       "<tr>\n",
       "  <th>Covariance Type:</th>      <td>nonrobust</td>    <th>                     </th>     <td> </td>   \n",
       "</tr>\n",
       "</table>\n",
       "<table class=\"simpletable\">\n",
       "<tr>\n",
       "      <td></td>         <th>coef</th>     <th>std err</th>      <th>t</th>      <th>P>|t|</th>  <th>[0.025</th>    <th>0.975]</th>  \n",
       "</tr>\n",
       "<tr>\n",
       "  <th>Intercept</th> <td>    0.0076</td> <td>    0.001</td> <td>    6.079</td> <td> 0.000</td> <td>    0.005</td> <td>    0.010</td>\n",
       "</tr>\n",
       "<tr>\n",
       "  <th>mkt_rf</th>    <td>   -0.2542</td> <td>    0.023</td> <td>  -11.000</td> <td> 0.000</td> <td>   -0.300</td> <td>   -0.209</td>\n",
       "</tr>\n",
       "</table>\n",
       "<table class=\"simpletable\">\n",
       "<tr>\n",
       "  <th>Omnibus:</th>       <td>219.484</td> <th>  Durbin-Watson:     </th> <td>   2.004</td> \n",
       "</tr>\n",
       "<tr>\n",
       "  <th>Prob(Omnibus):</th> <td> 0.000</td>  <th>  Jarque-Bera (JB):  </th> <td>1341.229</td> \n",
       "</tr>\n",
       "<tr>\n",
       "  <th>Skew:</th>          <td>-0.731</td>  <th>  Prob(JB):          </th> <td>5.70e-292</td>\n",
       "</tr>\n",
       "<tr>\n",
       "  <th>Kurtosis:</th>      <td> 8.092</td>  <th>  Cond. No.          </th> <td>    18.8</td> \n",
       "</tr>\n",
       "</table><br/><br/>Notes:<br/>[1] Standard Errors assume that the covariance matrix of the errors is correctly specified."
      ],
      "text/plain": [
       "<class 'statsmodels.iolib.summary.Summary'>\n",
       "\"\"\"\n",
       "                            OLS Regression Results                            \n",
       "==============================================================================\n",
       "Dep. Variable:                    mom   R-squared:                       0.096\n",
       "Model:                            OLS   Adj. R-squared:                  0.095\n",
       "Method:                 Least Squares   F-statistic:                     121.0\n",
       "Date:                Tue, 12 Apr 2022   Prob (F-statistic):           7.96e-27\n",
       "Time:                        18:57:29   Log-Likelihood:                 2017.0\n",
       "No. Observations:                1147   AIC:                            -4030.\n",
       "Df Residuals:                    1145   BIC:                            -4020.\n",
       "Df Model:                           1                                         \n",
       "Covariance Type:            nonrobust                                         \n",
       "==============================================================================\n",
       "                 coef    std err          t      P>|t|      [0.025      0.975]\n",
       "------------------------------------------------------------------------------\n",
       "Intercept      0.0076      0.001      6.079      0.000       0.005       0.010\n",
       "mkt_rf        -0.2542      0.023    -11.000      0.000      -0.300      -0.209\n",
       "==============================================================================\n",
       "Omnibus:                      219.484   Durbin-Watson:                   2.004\n",
       "Prob(Omnibus):                  0.000   Jarque-Bera (JB):             1341.229\n",
       "Skew:                          -0.731   Prob(JB):                    5.70e-292\n",
       "Kurtosis:                       8.092   Cond. No.                         18.8\n",
       "==============================================================================\n",
       "\n",
       "Notes:\n",
       "[1] Standard Errors assume that the covariance matrix of the errors is correctly specified.\n",
       "\"\"\""
      ]
     },
     "execution_count": 7,
     "metadata": {},
     "output_type": "execute_result"
    }
   ],
   "source": [
    "import statsmodels.formula.api as smf\n",
    "smf.ols('mom ~ mkt_rf', data=ff).fit().summary()"
   ]
  },
  {
   "cell_type": "markdown",
   "metadata": {},
   "source": [
    "# Question2"
   ]
  },
  {
   "cell_type": "code",
   "execution_count": 8,
   "metadata": {},
   "outputs": [
    {
     "data": {
      "text/html": [
       "<table class=\"simpletable\">\n",
       "<caption>OLS Regression Results</caption>\n",
       "<tr>\n",
       "  <th>Dep. Variable:</th>           <td>mom</td>       <th>  R-squared:         </th> <td>   0.153</td>\n",
       "</tr>\n",
       "<tr>\n",
       "  <th>Model:</th>                   <td>OLS</td>       <th>  Adj. R-squared:    </th> <td>   0.151</td>\n",
       "</tr>\n",
       "<tr>\n",
       "  <th>Method:</th>             <td>Least Squares</td>  <th>  F-statistic:       </th> <td>   68.98</td>\n",
       "</tr>\n",
       "<tr>\n",
       "  <th>Date:</th>             <td>Tue, 12 Apr 2022</td> <th>  Prob (F-statistic):</th> <td>5.34e-41</td>\n",
       "</tr>\n",
       "<tr>\n",
       "  <th>Time:</th>                 <td>18:57:29</td>     <th>  Log-Likelihood:    </th> <td>  2054.8</td>\n",
       "</tr>\n",
       "<tr>\n",
       "  <th>No. Observations:</th>      <td>  1147</td>      <th>  AIC:               </th> <td>  -4102.</td>\n",
       "</tr>\n",
       "<tr>\n",
       "  <th>Df Residuals:</th>          <td>  1143</td>      <th>  BIC:               </th> <td>  -4081.</td>\n",
       "</tr>\n",
       "<tr>\n",
       "  <th>Df Model:</th>              <td>     3</td>      <th>                     </th>     <td> </td>   \n",
       "</tr>\n",
       "<tr>\n",
       "  <th>Covariance Type:</th>      <td>nonrobust</td>    <th>                     </th>     <td> </td>   \n",
       "</tr>\n",
       "</table>\n",
       "<table class=\"simpletable\">\n",
       "<tr>\n",
       "      <td></td>         <th>coef</th>     <th>std err</th>      <th>t</th>      <th>P>|t|</th>  <th>[0.025</th>    <th>0.975]</th>  \n",
       "</tr>\n",
       "<tr>\n",
       "  <th>Intercept</th> <td>    0.0083</td> <td>    0.001</td> <td>    6.898</td> <td> 0.000</td> <td>    0.006</td> <td>    0.011</td>\n",
       "</tr>\n",
       "<tr>\n",
       "  <th>mkt_rf</th>    <td>   -0.2016</td> <td>    0.024</td> <td>   -8.343</td> <td> 0.000</td> <td>   -0.249</td> <td>   -0.154</td>\n",
       "</tr>\n",
       "<tr>\n",
       "  <th>smb</th>       <td>   -0.0539</td> <td>    0.041</td> <td>   -1.314</td> <td> 0.189</td> <td>   -0.134</td> <td>    0.027</td>\n",
       "</tr>\n",
       "<tr>\n",
       "  <th>hml</th>       <td>   -0.3141</td> <td>    0.036</td> <td>   -8.710</td> <td> 0.000</td> <td>   -0.385</td> <td>   -0.243</td>\n",
       "</tr>\n",
       "</table>\n",
       "<table class=\"simpletable\">\n",
       "<tr>\n",
       "  <th>Omnibus:</th>       <td>173.761</td> <th>  Durbin-Watson:     </th> <td>   1.985</td> \n",
       "</tr>\n",
       "<tr>\n",
       "  <th>Prob(Omnibus):</th> <td> 0.000</td>  <th>  Jarque-Bera (JB):  </th> <td> 894.404</td> \n",
       "</tr>\n",
       "<tr>\n",
       "  <th>Skew:</th>          <td>-0.592</td>  <th>  Prob(JB):          </th> <td>6.06e-195</td>\n",
       "</tr>\n",
       "<tr>\n",
       "  <th>Kurtosis:</th>      <td> 7.161</td>  <th>  Cond. No.          </th> <td>    35.3</td> \n",
       "</tr>\n",
       "</table><br/><br/>Notes:<br/>[1] Standard Errors assume that the covariance matrix of the errors is correctly specified."
      ],
      "text/plain": [
       "<class 'statsmodels.iolib.summary.Summary'>\n",
       "\"\"\"\n",
       "                            OLS Regression Results                            \n",
       "==============================================================================\n",
       "Dep. Variable:                    mom   R-squared:                       0.153\n",
       "Model:                            OLS   Adj. R-squared:                  0.151\n",
       "Method:                 Least Squares   F-statistic:                     68.98\n",
       "Date:                Tue, 12 Apr 2022   Prob (F-statistic):           5.34e-41\n",
       "Time:                        18:57:29   Log-Likelihood:                 2054.8\n",
       "No. Observations:                1147   AIC:                            -4102.\n",
       "Df Residuals:                    1143   BIC:                            -4081.\n",
       "Df Model:                           3                                         \n",
       "Covariance Type:            nonrobust                                         \n",
       "==============================================================================\n",
       "                 coef    std err          t      P>|t|      [0.025      0.975]\n",
       "------------------------------------------------------------------------------\n",
       "Intercept      0.0083      0.001      6.898      0.000       0.006       0.011\n",
       "mkt_rf        -0.2016      0.024     -8.343      0.000      -0.249      -0.154\n",
       "smb           -0.0539      0.041     -1.314      0.189      -0.134       0.027\n",
       "hml           -0.3141      0.036     -8.710      0.000      -0.385      -0.243\n",
       "==============================================================================\n",
       "Omnibus:                      173.761   Durbin-Watson:                   1.985\n",
       "Prob(Omnibus):                  0.000   Jarque-Bera (JB):              894.404\n",
       "Skew:                          -0.592   Prob(JB):                    6.06e-195\n",
       "Kurtosis:                       7.161   Cond. No.                         35.3\n",
       "==============================================================================\n",
       "\n",
       "Notes:\n",
       "[1] Standard Errors assume that the covariance matrix of the errors is correctly specified.\n",
       "\"\"\""
      ]
     },
     "execution_count": 8,
     "metadata": {},
     "output_type": "execute_result"
    }
   ],
   "source": [
    "smf.ols('mom ~ mkt_rf+smb+hml', data=ff).fit().summary()"
   ]
  },
  {
   "cell_type": "markdown",
   "metadata": {},
   "source": [
    "# Question3"
   ]
  },
  {
   "cell_type": "code",
   "execution_count": 9,
   "metadata": {
    "scrolled": false
   },
   "outputs": [
    {
     "data": {
      "text/html": [
       "<div>\n",
       "<style scoped>\n",
       "    .dataframe tbody tr th:only-of-type {\n",
       "        vertical-align: middle;\n",
       "    }\n",
       "\n",
       "    .dataframe tbody tr th {\n",
       "        vertical-align: top;\n",
       "    }\n",
       "\n",
       "    .dataframe thead th {\n",
       "        text-align: right;\n",
       "    }\n",
       "</style>\n",
       "<table border=\"1\" class=\"dataframe\">\n",
       "  <thead>\n",
       "    <tr style=\"text-align: right;\">\n",
       "      <th></th>\n",
       "      <th>month_end</th>\n",
       "      <th>mkt_rf</th>\n",
       "      <th>smb</th>\n",
       "      <th>hml</th>\n",
       "      <th>rmw</th>\n",
       "      <th>cma</th>\n",
       "      <th>rf</th>\n",
       "      <th>mom</th>\n",
       "      <th>mystery_meat</th>\n",
       "    </tr>\n",
       "  </thead>\n",
       "  <tbody>\n",
       "    <tr>\n",
       "      <th>0</th>\n",
       "      <td>1963-07-31</td>\n",
       "      <td>-0.00403</td>\n",
       "      <td>-0.00491</td>\n",
       "      <td>-0.00910</td>\n",
       "      <td>0.00549</td>\n",
       "      <td>-0.01374</td>\n",
       "      <td>0.00264</td>\n",
       "      <td>0.01290</td>\n",
       "      <td>-0.00615</td>\n",
       "    </tr>\n",
       "    <tr>\n",
       "      <th>1</th>\n",
       "      <td>1963-08-31</td>\n",
       "      <td>0.05080</td>\n",
       "      <td>-0.00701</td>\n",
       "      <td>0.01557</td>\n",
       "      <td>0.00269</td>\n",
       "      <td>-0.00032</td>\n",
       "      <td>0.00242</td>\n",
       "      <td>0.00556</td>\n",
       "      <td>-0.02440</td>\n",
       "    </tr>\n",
       "    <tr>\n",
       "      <th>2</th>\n",
       "      <td>1963-09-30</td>\n",
       "      <td>-0.01573</td>\n",
       "      <td>-0.00434</td>\n",
       "      <td>-0.00023</td>\n",
       "      <td>-0.00591</td>\n",
       "      <td>0.00268</td>\n",
       "      <td>0.00280</td>\n",
       "      <td>-0.00286</td>\n",
       "      <td>0.01333</td>\n",
       "    </tr>\n",
       "    <tr>\n",
       "      <th>3</th>\n",
       "      <td>1963-10-31</td>\n",
       "      <td>0.02510</td>\n",
       "      <td>-0.01300</td>\n",
       "      <td>-0.00022</td>\n",
       "      <td>0.02575</td>\n",
       "      <td>-0.01567</td>\n",
       "      <td>0.00299</td>\n",
       "      <td>0.03043</td>\n",
       "      <td>-0.02776</td>\n",
       "    </tr>\n",
       "    <tr>\n",
       "      <th>4</th>\n",
       "      <td>1963-11-30</td>\n",
       "      <td>-0.00848</td>\n",
       "      <td>-0.01023</td>\n",
       "      <td>0.01879</td>\n",
       "      <td>-0.00486</td>\n",
       "      <td>0.02207</td>\n",
       "      <td>0.00270</td>\n",
       "      <td>-0.01217</td>\n",
       "      <td>0.02182</td>\n",
       "    </tr>\n",
       "  </tbody>\n",
       "</table>\n",
       "</div>"
      ],
      "text/plain": [
       "    month_end   mkt_rf      smb      hml      rmw      cma       rf      mom  \\\n",
       "0  1963-07-31 -0.00403 -0.00491 -0.00910  0.00549 -0.01374  0.00264  0.01290   \n",
       "1  1963-08-31  0.05080 -0.00701  0.01557  0.00269 -0.00032  0.00242  0.00556   \n",
       "2  1963-09-30 -0.01573 -0.00434 -0.00023 -0.00591  0.00268  0.00280 -0.00286   \n",
       "3  1963-10-31  0.02510 -0.01300 -0.00022  0.02575 -0.01567  0.00299  0.03043   \n",
       "4  1963-11-30 -0.00848 -0.01023  0.01879 -0.00486  0.02207  0.00270 -0.01217   \n",
       "\n",
       "   mystery_meat  \n",
       "0      -0.00615  \n",
       "1      -0.02440  \n",
       "2       0.01333  \n",
       "3      -0.02776  \n",
       "4       0.02182  "
      ]
     },
     "execution_count": 9,
     "metadata": {},
     "output_type": "execute_result"
    }
   ],
   "source": [
    "my_meat=pd.read_parquet(\"h1_mystery_meat.parquet\")\n",
    "my_meat.head()"
   ]
  },
  {
   "cell_type": "code",
   "execution_count": 10,
   "metadata": {},
   "outputs": [
    {
     "data": {
      "text/html": [
       "<table class=\"simpletable\">\n",
       "<caption>OLS Regression Results</caption>\n",
       "<tr>\n",
       "  <th>Dep. Variable:</th>      <td>mystery_meat</td>   <th>  R-squared:         </th>  <td>   1.000</td> \n",
       "</tr>\n",
       "<tr>\n",
       "  <th>Model:</th>                   <td>OLS</td>       <th>  Adj. R-squared:    </th>  <td>   1.000</td> \n",
       "</tr>\n",
       "<tr>\n",
       "  <th>Method:</th>             <td>Least Squares</td>  <th>  F-statistic:       </th>  <td>1.077e+10</td>\n",
       "</tr>\n",
       "<tr>\n",
       "  <th>Date:</th>             <td>Tue, 12 Apr 2022</td> <th>  Prob (F-statistic):</th>   <td>  0.00</td>  \n",
       "</tr>\n",
       "<tr>\n",
       "  <th>Time:</th>                 <td>18:57:30</td>     <th>  Log-Likelihood:    </th>  <td>  7836.0</td> \n",
       "</tr>\n",
       "<tr>\n",
       "  <th>No. Observations:</th>      <td>   703</td>      <th>  AIC:               </th> <td>-1.566e+04</td>\n",
       "</tr>\n",
       "<tr>\n",
       "  <th>Df Residuals:</th>          <td>   696</td>      <th>  BIC:               </th> <td>-1.563e+04</td>\n",
       "</tr>\n",
       "<tr>\n",
       "  <th>Df Model:</th>              <td>     6</td>      <th>                     </th>      <td> </td>    \n",
       "</tr>\n",
       "<tr>\n",
       "  <th>Covariance Type:</th>      <td>nonrobust</td>    <th>                     </th>      <td> </td>    \n",
       "</tr>\n",
       "</table>\n",
       "<table class=\"simpletable\">\n",
       "<tr>\n",
       "      <td></td>         <th>coef</th>     <th>std err</th>      <th>t</th>      <th>P>|t|</th>  <th>[0.025</th>    <th>0.975]</th>  \n",
       "</tr>\n",
       "<tr>\n",
       "  <th>Intercept</th> <td>   -0.0010</td> <td> 1.41e-07</td> <td>-7106.605</td> <td> 0.000</td> <td>   -0.001</td> <td>   -0.001</td>\n",
       "</tr>\n",
       "<tr>\n",
       "  <th>mkt_rf</th>    <td>   -0.5000</td> <td> 3.47e-06</td> <td>-1.44e+05</td> <td> 0.000</td> <td>   -0.500</td> <td>   -0.500</td>\n",
       "</tr>\n",
       "<tr>\n",
       "  <th>smb</th>       <td>   -0.5000</td> <td> 4.81e-06</td> <td>-1.04e+05</td> <td> 0.000</td> <td>   -0.500</td> <td>   -0.500</td>\n",
       "</tr>\n",
       "<tr>\n",
       "  <th>hml</th>       <td> 4.148e-06</td> <td> 6.51e-06</td> <td>    0.637</td> <td> 0.524</td> <td>-8.64e-06</td> <td> 1.69e-05</td>\n",
       "</tr>\n",
       "<tr>\n",
       "  <th>rmw</th>       <td>   -0.5000</td> <td> 6.58e-06</td> <td> -7.6e+04</td> <td> 0.000</td> <td>   -0.500</td> <td>   -0.500</td>\n",
       "</tr>\n",
       "<tr>\n",
       "  <th>cma</th>       <td>    0.5000</td> <td> 9.75e-06</td> <td> 5.13e+04</td> <td> 0.000</td> <td>    0.500</td> <td>    0.500</td>\n",
       "</tr>\n",
       "<tr>\n",
       "  <th>mom</th>       <td>-1.083e-06</td> <td> 3.36e-06</td> <td>   -0.322</td> <td> 0.747</td> <td>-7.68e-06</td> <td> 5.51e-06</td>\n",
       "</tr>\n",
       "</table>\n",
       "<table class=\"simpletable\">\n",
       "<tr>\n",
       "  <th>Omnibus:</th>       <td>113.796</td> <th>  Durbin-Watson:     </th> <td>   1.998</td>\n",
       "</tr>\n",
       "<tr>\n",
       "  <th>Prob(Omnibus):</th> <td> 0.000</td>  <th>  Jarque-Bera (JB):  </th> <td>  27.428</td>\n",
       "</tr>\n",
       "<tr>\n",
       "  <th>Skew:</th>          <td> 0.097</td>  <th>  Prob(JB):          </th> <td>1.11e-06</td>\n",
       "</tr>\n",
       "<tr>\n",
       "  <th>Kurtosis:</th>      <td> 2.052</td>  <th>  Cond. No.          </th> <td>    83.8</td>\n",
       "</tr>\n",
       "</table><br/><br/>Notes:<br/>[1] Standard Errors assume that the covariance matrix of the errors is correctly specified."
      ],
      "text/plain": [
       "<class 'statsmodels.iolib.summary.Summary'>\n",
       "\"\"\"\n",
       "                            OLS Regression Results                            \n",
       "==============================================================================\n",
       "Dep. Variable:           mystery_meat   R-squared:                       1.000\n",
       "Model:                            OLS   Adj. R-squared:                  1.000\n",
       "Method:                 Least Squares   F-statistic:                 1.077e+10\n",
       "Date:                Tue, 12 Apr 2022   Prob (F-statistic):               0.00\n",
       "Time:                        18:57:30   Log-Likelihood:                 7836.0\n",
       "No. Observations:                 703   AIC:                        -1.566e+04\n",
       "Df Residuals:                     696   BIC:                        -1.563e+04\n",
       "Df Model:                           6                                         \n",
       "Covariance Type:            nonrobust                                         \n",
       "==============================================================================\n",
       "                 coef    std err          t      P>|t|      [0.025      0.975]\n",
       "------------------------------------------------------------------------------\n",
       "Intercept     -0.0010   1.41e-07  -7106.605      0.000      -0.001      -0.001\n",
       "mkt_rf        -0.5000   3.47e-06  -1.44e+05      0.000      -0.500      -0.500\n",
       "smb           -0.5000   4.81e-06  -1.04e+05      0.000      -0.500      -0.500\n",
       "hml         4.148e-06   6.51e-06      0.637      0.524   -8.64e-06    1.69e-05\n",
       "rmw           -0.5000   6.58e-06   -7.6e+04      0.000      -0.500      -0.500\n",
       "cma            0.5000   9.75e-06   5.13e+04      0.000       0.500       0.500\n",
       "mom        -1.083e-06   3.36e-06     -0.322      0.747   -7.68e-06    5.51e-06\n",
       "==============================================================================\n",
       "Omnibus:                      113.796   Durbin-Watson:                   1.998\n",
       "Prob(Omnibus):                  0.000   Jarque-Bera (JB):               27.428\n",
       "Skew:                           0.097   Prob(JB):                     1.11e-06\n",
       "Kurtosis:                       2.052   Cond. No.                         83.8\n",
       "==============================================================================\n",
       "\n",
       "Notes:\n",
       "[1] Standard Errors assume that the covariance matrix of the errors is correctly specified.\n",
       "\"\"\""
      ]
     },
     "execution_count": 10,
     "metadata": {},
     "output_type": "execute_result"
    }
   ],
   "source": [
    "smf.ols('mystery_meat ~ mkt_rf + smb + hml + rmw + cma + mom', data=my_meat).fit().summary()"
   ]
  }
 ],
 "metadata": {
  "kernelspec": {
   "display_name": "Python 3",
   "language": "python",
   "name": "python3"
  },
  "language_info": {
   "codemirror_mode": {
    "name": "ipython",
    "version": 3
   },
   "file_extension": ".py",
   "mimetype": "text/x-python",
   "name": "python",
   "nbconvert_exporter": "python",
   "pygments_lexer": "ipython3",
   "version": "3.8.8"
  },
  "toc": {
   "base_numbering": 1,
   "nav_menu": {},
   "number_sections": true,
   "sideBar": true,
   "skip_h1_title": false,
   "title_cell": "Table of Contents",
   "title_sidebar": "Contents",
   "toc_cell": false,
   "toc_position": {},
   "toc_section_display": true,
   "toc_window_display": false
  },
  "varInspector": {
   "cols": {
    "lenName": 16,
    "lenType": 16,
    "lenVar": 40
   },
   "kernels_config": {
    "python": {
     "delete_cmd_postfix": "",
     "delete_cmd_prefix": "del ",
     "library": "var_list.py",
     "varRefreshCmd": "print(var_dic_list())"
    },
    "r": {
     "delete_cmd_postfix": ") ",
     "delete_cmd_prefix": "rm(",
     "library": "var_list.r",
     "varRefreshCmd": "cat(var_dic_list()) "
    }
   },
   "types_to_exclude": [
    "module",
    "function",
    "builtin_function_or_method",
    "instance",
    "_Feature"
   ],
   "window_display": false
  }
 },
 "nbformat": 4,
 "nbformat_minor": 2
}
